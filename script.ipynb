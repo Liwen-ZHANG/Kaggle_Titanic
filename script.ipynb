{
 "cells": [
  {
   "cell_type": "markdown",
   "metadata": {},
   "source": [
    "# Kaggle\n",
    "\n",
    "# Titanic: Machine Learning from Disaster\n",
    "\n",
    "### https://www.kaggle.com/c/titanic\n",
    "\n",
    "## Competition Description\n",
    "\n",
    "\"The sinking of the RMS Titanic is one of the most infamous shipwrecks in history.  On April 15, 1912, during her maiden voyage, the Titanic sank after colliding with an iceberg, killing 1502 out of 2224 passengers and crew. This sensational tragedy shocked the international community and led to better safety regulations for ships.\n",
    "\n",
    "One of the reasons that the shipwreck led to such loss of life was that there were not enough lifeboats for the passengers and crew. Although there was some element of luck involved in surviving the sinking, some groups of people were more likely to survive than others, such as women, children, and the upper-class.\n",
    "\n",
    "In this challenge, we ask you to complete the analysis of what sorts of people were likely to survive. In particular, we ask you to apply the tools of machine learning to predict which passengers survived the tragedy.\""
   ]
  },
  {
   "cell_type": "code",
   "execution_count": 1,
   "metadata": {},
   "outputs": [
    {
     "name": "stderr",
     "output_type": "stream",
     "text": [
      "D:\\Python\\Anaconda\\Anaconda\\lib\\site-packages\\h5py\\__init__.py:34: FutureWarning: Conversion of the second argument of issubdtype from `float` to `np.floating` is deprecated. In future, it will be treated as `np.float64 == np.dtype(float).type`.\n",
      "  from ._conv import register_converters as _register_converters\n",
      "Using TensorFlow backend.\n"
     ]
    }
   ],
   "source": [
    "import numpy as np\n",
    "import pandas as pd\n",
    "from statsmodels.graphics.mosaicplot import mosaic\n",
    "import matplotlib.pyplot as plt\n",
    "import seaborn as sns\n",
    "from fancyimpute import MICE\n",
    "from fancyimpute.bayesian_ridge_regression import BayesianRidgeRegression"
   ]
  },
  {
   "cell_type": "code",
   "execution_count": 2,
   "metadata": {
    "collapsed": true
   },
   "outputs": [],
   "source": [
    "%matplotlib inline"
   ]
  },
  {
   "cell_type": "code",
   "execution_count": 3,
   "metadata": {
    "collapsed": true
   },
   "outputs": [],
   "source": [
    "# load data\n",
    "df = pd.read_csv(\"train.csv\")"
   ]
  },
  {
   "cell_type": "markdown",
   "metadata": {},
   "source": [
    "## Data Preparation\n",
    "\n",
    "\n",
    "### Data Dictionary\n",
    "\n",
    "https://www.kaggle.com/c/titanic/data"
   ]
  },
  {
   "cell_type": "code",
   "execution_count": 4,
   "metadata": {},
   "outputs": [
    {
     "data": {
      "text/html": [
       "<div>\n",
       "<style scoped>\n",
       "    .dataframe tbody tr th:only-of-type {\n",
       "        vertical-align: middle;\n",
       "    }\n",
       "\n",
       "    .dataframe tbody tr th {\n",
       "        vertical-align: top;\n",
       "    }\n",
       "\n",
       "    .dataframe thead th {\n",
       "        text-align: right;\n",
       "    }\n",
       "</style>\n",
       "<table border=\"1\" class=\"dataframe\">\n",
       "  <thead>\n",
       "    <tr style=\"text-align: right;\">\n",
       "      <th></th>\n",
       "      <th>PassengerId</th>\n",
       "      <th>Survived</th>\n",
       "      <th>Pclass</th>\n",
       "      <th>Name</th>\n",
       "      <th>Sex</th>\n",
       "      <th>Age</th>\n",
       "      <th>SibSp</th>\n",
       "      <th>Parch</th>\n",
       "      <th>Ticket</th>\n",
       "      <th>Fare</th>\n",
       "      <th>Cabin</th>\n",
       "      <th>Embarked</th>\n",
       "    </tr>\n",
       "  </thead>\n",
       "  <tbody>\n",
       "    <tr>\n",
       "      <th>0</th>\n",
       "      <td>1</td>\n",
       "      <td>0</td>\n",
       "      <td>3</td>\n",
       "      <td>Braund, Mr. Owen Harris</td>\n",
       "      <td>male</td>\n",
       "      <td>22.0</td>\n",
       "      <td>1</td>\n",
       "      <td>0</td>\n",
       "      <td>A/5 21171</td>\n",
       "      <td>7.2500</td>\n",
       "      <td>NaN</td>\n",
       "      <td>S</td>\n",
       "    </tr>\n",
       "    <tr>\n",
       "      <th>1</th>\n",
       "      <td>2</td>\n",
       "      <td>1</td>\n",
       "      <td>1</td>\n",
       "      <td>Cumings, Mrs. John Bradley (Florence Briggs Th...</td>\n",
       "      <td>female</td>\n",
       "      <td>38.0</td>\n",
       "      <td>1</td>\n",
       "      <td>0</td>\n",
       "      <td>PC 17599</td>\n",
       "      <td>71.2833</td>\n",
       "      <td>C85</td>\n",
       "      <td>C</td>\n",
       "    </tr>\n",
       "    <tr>\n",
       "      <th>2</th>\n",
       "      <td>3</td>\n",
       "      <td>1</td>\n",
       "      <td>3</td>\n",
       "      <td>Heikkinen, Miss. Laina</td>\n",
       "      <td>female</td>\n",
       "      <td>26.0</td>\n",
       "      <td>0</td>\n",
       "      <td>0</td>\n",
       "      <td>STON/O2. 3101282</td>\n",
       "      <td>7.9250</td>\n",
       "      <td>NaN</td>\n",
       "      <td>S</td>\n",
       "    </tr>\n",
       "  </tbody>\n",
       "</table>\n",
       "</div>"
      ],
      "text/plain": [
       "   PassengerId  Survived  Pclass  \\\n",
       "0            1         0       3   \n",
       "1            2         1       1   \n",
       "2            3         1       3   \n",
       "\n",
       "                                                Name     Sex   Age  SibSp  \\\n",
       "0                            Braund, Mr. Owen Harris    male  22.0      1   \n",
       "1  Cumings, Mrs. John Bradley (Florence Briggs Th...  female  38.0      1   \n",
       "2                             Heikkinen, Miss. Laina  female  26.0      0   \n",
       "\n",
       "   Parch            Ticket     Fare Cabin Embarked  \n",
       "0      0         A/5 21171   7.2500   NaN        S  \n",
       "1      0          PC 17599  71.2833   C85        C  \n",
       "2      0  STON/O2. 3101282   7.9250   NaN        S  "
      ]
     },
     "execution_count": 4,
     "metadata": {},
     "output_type": "execute_result"
    }
   ],
   "source": [
    "# a quick view\n",
    "df.head(3)"
   ]
  },
  {
   "cell_type": "code",
   "execution_count": 5,
   "metadata": {},
   "outputs": [
    {
     "name": "stdout",
     "output_type": "stream",
     "text": [
      "The dataset has 891  observations (rows) and  12  variables (columns).\n"
     ]
    }
   ],
   "source": [
    "# dataset dimension\n",
    "# Size of the dataframe\n",
    "print(\"The dataset has\", df.shape[0],' observations (rows) and ',df.shape[1],' variables (columns).')"
   ]
  },
  {
   "cell_type": "markdown",
   "metadata": {},
   "source": [
    "### Data Type"
   ]
  },
  {
   "cell_type": "code",
   "execution_count": 6,
   "metadata": {},
   "outputs": [
    {
     "data": {
      "text/plain": [
       "PassengerId      int64\n",
       "Survived         int64\n",
       "Pclass           int64\n",
       "Name            object\n",
       "Sex             object\n",
       "Age            float64\n",
       "SibSp            int64\n",
       "Parch            int64\n",
       "Ticket          object\n",
       "Fare           float64\n",
       "Cabin           object\n",
       "Embarked        object\n",
       "dtype: object"
      ]
     },
     "execution_count": 6,
     "metadata": {},
     "output_type": "execute_result"
    }
   ],
   "source": [
    "# data type\n",
    "df.dtypes"
   ]
  },
  {
   "cell_type": "code",
   "execution_count": 7,
   "metadata": {
    "collapsed": true
   },
   "outputs": [],
   "source": [
    "# \"pclass\" refers to ticket class. Ordering relationship (distance) is not clear. \n",
    "# Change to categorical variable\n",
    "df['Pclass'] = df['Pclass'].apply(str)"
   ]
  },
  {
   "cell_type": "markdown",
   "metadata": {},
   "source": [
    "### Unique Values"
   ]
  },
  {
   "cell_type": "code",
   "execution_count": 8,
   "metadata": {},
   "outputs": [
    {
     "data": {
      "text/plain": [
       "PassengerId    891\n",
       "Survived         2\n",
       "Pclass           3\n",
       "Name           891\n",
       "Sex              2\n",
       "Age             88\n",
       "SibSp            7\n",
       "Parch            7\n",
       "Ticket         681\n",
       "Fare           248\n",
       "Cabin          147\n",
       "Embarked         3\n",
       "dtype: int64"
      ]
     },
     "execution_count": 8,
     "metadata": {},
     "output_type": "execute_result"
    }
   ],
   "source": [
    "# the number of unique values\n",
    "df.nunique()"
   ]
  },
  {
   "cell_type": "markdown",
   "metadata": {},
   "source": [
    "\"PassengerId\" and \"Name\" variables are not very informative since they are unique for each observation/row. "
   ]
  },
  {
   "cell_type": "code",
   "execution_count": 9,
   "metadata": {
    "collapsed": true
   },
   "outputs": [],
   "source": [
    "# drop \"PassengerId\" and \"Name\" variables since they are unique for each observation/row\n",
    "df.drop(['PassengerId','Name'],axis=1,inplace=True)"
   ]
  },
  {
   "cell_type": "markdown",
   "metadata": {},
   "source": [
    "I notice that one ticket number can match multiple cabin numbers. Instead of the exact cabin number, cabin location (the alphabet letter) may be more informative. "
   ]
  },
  {
   "cell_type": "code",
   "execution_count": 10,
   "metadata": {},
   "outputs": [
    {
     "data": {
      "text/plain": [
       "array([nan, 'C85', 'C123', 'E46', 'G6', 'C103', 'D56', 'A6',\n",
       "       'C23 C25 C27', 'B78', 'D33', 'B30', 'C52', 'B28', 'C83', 'F33',\n",
       "       'F G73', 'E31', 'A5', 'D10 D12', 'D26', 'C110', 'B58 B60', 'E101',\n",
       "       'F E69', 'D47', 'B86', 'F2', 'C2', 'E33', 'B19', 'A7', 'C49', 'F4',\n",
       "       'A32', 'B4', 'B80', 'A31', 'D36', 'D15', 'C93', 'C78', 'D35',\n",
       "       'C87', 'B77', 'E67', 'B94', 'C125', 'C99', 'C118', 'D7', 'A19',\n",
       "       'B49', 'D', 'C22 C26', 'C106', 'C65', 'E36', 'C54',\n",
       "       'B57 B59 B63 B66', 'C7', 'E34', 'C32', 'B18', 'C124', 'C91', 'E40',\n",
       "       'T', 'C128', 'D37', 'B35', 'E50', 'C82', 'B96 B98', 'E10', 'E44',\n",
       "       'A34', 'C104', 'C111', 'C92', 'E38', 'D21', 'E12', 'E63', 'A14',\n",
       "       'B37', 'C30', 'D20', 'B79', 'E25', 'D46', 'B73', 'C95', 'B38',\n",
       "       'B39', 'B22', 'C86', 'C70', 'A16', 'C101', 'C68', 'A10', 'E68',\n",
       "       'B41', 'A20', 'D19', 'D50', 'D9', 'A23', 'B50', 'A26', 'D48',\n",
       "       'E58', 'C126', 'B71', 'B51 B53 B55', 'D49', 'B5', 'B20', 'F G63',\n",
       "       'C62 C64', 'E24', 'C90', 'C45', 'E8', 'B101', 'D45', 'C46', 'D30',\n",
       "       'E121', 'D11', 'E77', 'F38', 'B3', 'D6', 'B82 B84', 'D17', 'A36',\n",
       "       'B102', 'B69', 'E49', 'C47', 'D28', 'E17', 'A24', 'C50', 'B42',\n",
       "       'C148'], dtype=object)"
      ]
     },
     "execution_count": 10,
     "metadata": {},
     "output_type": "execute_result"
    }
   ],
   "source": [
    "# cabin number\n",
    "df.Cabin.unique()"
   ]
  },
  {
   "cell_type": "code",
   "execution_count": 11,
   "metadata": {
    "collapsed": true
   },
   "outputs": [],
   "source": [
    "# cabin location (letter)\n",
    "cabin_l = df.Cabin.str.extractall('([A-Za-z])')\n",
    "cabin_l.reset_index(inplace=True)\n",
    "cabin_l.columns = ['row', 'match','letter']\n",
    "cabin_loca = cabin_l.groupby(by='row').letter.unique().apply(''.join)\n",
    "df.loc[cabin_loca.index,'cabin_loca'] = cabin_loca.values\n",
    "\n",
    "# drop Cabin number variable\n",
    "df.drop('Cabin',axis=1,inplace=True)"
   ]
  },
  {
   "cell_type": "markdown",
   "metadata": {},
   "source": [
    "### Missing Values"
   ]
  },
  {
   "cell_type": "code",
   "execution_count": 12,
   "metadata": {
    "scrolled": true
   },
   "outputs": [
    {
     "name": "stdout",
     "output_type": "stream",
     "text": [
      "In this dataset,  3  variables have missing values.\n",
      "The count and percentage of missing values: \n"
     ]
    },
    {
     "data": {
      "text/html": [
       "<div>\n",
       "<style scoped>\n",
       "    .dataframe tbody tr th:only-of-type {\n",
       "        vertical-align: middle;\n",
       "    }\n",
       "\n",
       "    .dataframe tbody tr th {\n",
       "        vertical-align: top;\n",
       "    }\n",
       "\n",
       "    .dataframe thead th {\n",
       "        text-align: right;\n",
       "    }\n",
       "</style>\n",
       "<table border=\"1\" class=\"dataframe\">\n",
       "  <thead>\n",
       "    <tr style=\"text-align: right;\">\n",
       "      <th></th>\n",
       "      <th>count</th>\n",
       "      <th>percentage</th>\n",
       "    </tr>\n",
       "  </thead>\n",
       "  <tbody>\n",
       "    <tr>\n",
       "      <th>Age</th>\n",
       "      <td>177</td>\n",
       "      <td>0.198653</td>\n",
       "    </tr>\n",
       "    <tr>\n",
       "      <th>Embarked</th>\n",
       "      <td>2</td>\n",
       "      <td>0.002245</td>\n",
       "    </tr>\n",
       "    <tr>\n",
       "      <th>cabin_loca</th>\n",
       "      <td>687</td>\n",
       "      <td>0.771044</td>\n",
       "    </tr>\n",
       "  </tbody>\n",
       "</table>\n",
       "</div>"
      ],
      "text/plain": [
       "            count  percentage\n",
       "Age           177    0.198653\n",
       "Embarked        2    0.002245\n",
       "cabin_loca    687    0.771044"
      ]
     },
     "execution_count": 12,
     "metadata": {},
     "output_type": "execute_result"
    }
   ],
   "source": [
    "print(\"In this dataset, \",sum(df.isnull().any(axis=0)),' variables have missing values.')\n",
    "print(\"The count and percentage of missing values: \")\n",
    "sum_mis = df.isnull().sum().to_frame()\n",
    "sum_mis.columns = ['count']\n",
    "sum_mis['percentage'] = sum_mis.values/df.shape[0]\n",
    "sum_mis[sum_mis.percentage>0]"
   ]
  },
  {
   "cell_type": "markdown",
   "metadata": {},
   "source": [
    "#### Embarked: Port of Embarkation\n",
    "\n",
    "Only 2 Embarked values (0.2%) are missing. "
   ]
  },
  {
   "cell_type": "code",
   "execution_count": 13,
   "metadata": {},
   "outputs": [
    {
     "data": {
      "text/html": [
       "<div>\n",
       "<style scoped>\n",
       "    .dataframe tbody tr th:only-of-type {\n",
       "        vertical-align: middle;\n",
       "    }\n",
       "\n",
       "    .dataframe tbody tr th {\n",
       "        vertical-align: top;\n",
       "    }\n",
       "\n",
       "    .dataframe thead th {\n",
       "        text-align: right;\n",
       "    }\n",
       "</style>\n",
       "<table border=\"1\" class=\"dataframe\">\n",
       "  <thead>\n",
       "    <tr style=\"text-align: right;\">\n",
       "      <th></th>\n",
       "      <th>Survived</th>\n",
       "      <th>Pclass</th>\n",
       "      <th>Sex</th>\n",
       "      <th>Age</th>\n",
       "      <th>SibSp</th>\n",
       "      <th>Parch</th>\n",
       "      <th>Ticket</th>\n",
       "      <th>Fare</th>\n",
       "      <th>Embarked</th>\n",
       "      <th>cabin_loca</th>\n",
       "    </tr>\n",
       "  </thead>\n",
       "  <tbody>\n",
       "    <tr>\n",
       "      <th>61</th>\n",
       "      <td>1</td>\n",
       "      <td>1</td>\n",
       "      <td>female</td>\n",
       "      <td>38.0</td>\n",
       "      <td>0</td>\n",
       "      <td>0</td>\n",
       "      <td>113572</td>\n",
       "      <td>80.0</td>\n",
       "      <td>NaN</td>\n",
       "      <td>B</td>\n",
       "    </tr>\n",
       "    <tr>\n",
       "      <th>829</th>\n",
       "      <td>1</td>\n",
       "      <td>1</td>\n",
       "      <td>female</td>\n",
       "      <td>62.0</td>\n",
       "      <td>0</td>\n",
       "      <td>0</td>\n",
       "      <td>113572</td>\n",
       "      <td>80.0</td>\n",
       "      <td>NaN</td>\n",
       "      <td>B</td>\n",
       "    </tr>\n",
       "  </tbody>\n",
       "</table>\n",
       "</div>"
      ],
      "text/plain": [
       "     Survived Pclass     Sex   Age  SibSp  Parch  Ticket  Fare Embarked  \\\n",
       "61          1      1  female  38.0      0      0  113572  80.0      NaN   \n",
       "829         1      1  female  62.0      0      0  113572  80.0      NaN   \n",
       "\n",
       "    cabin_loca  \n",
       "61           B  \n",
       "829          B  "
      ]
     },
     "execution_count": 13,
     "metadata": {},
     "output_type": "execute_result"
    }
   ],
   "source": [
    "df[df.Embarked.isnull()]"
   ]
  },
  {
   "cell_type": "code",
   "execution_count": 14,
   "metadata": {},
   "outputs": [
    {
     "data": {
      "text/html": [
       "<div>\n",
       "<style scoped>\n",
       "    .dataframe tbody tr th:only-of-type {\n",
       "        vertical-align: middle;\n",
       "    }\n",
       "\n",
       "    .dataframe tbody tr th {\n",
       "        vertical-align: top;\n",
       "    }\n",
       "\n",
       "    .dataframe thead th {\n",
       "        text-align: right;\n",
       "    }\n",
       "</style>\n",
       "<table border=\"1\" class=\"dataframe\">\n",
       "  <thead>\n",
       "    <tr style=\"text-align: right;\">\n",
       "      <th></th>\n",
       "      <th>Survived</th>\n",
       "      <th>Pclass</th>\n",
       "      <th>Sex</th>\n",
       "      <th>Age</th>\n",
       "      <th>SibSp</th>\n",
       "      <th>Parch</th>\n",
       "      <th>Ticket</th>\n",
       "      <th>Fare</th>\n",
       "      <th>Embarked</th>\n",
       "      <th>cabin_loca</th>\n",
       "    </tr>\n",
       "  </thead>\n",
       "  <tbody>\n",
       "    <tr>\n",
       "      <th>61</th>\n",
       "      <td>1</td>\n",
       "      <td>1</td>\n",
       "      <td>female</td>\n",
       "      <td>38.0</td>\n",
       "      <td>0</td>\n",
       "      <td>0</td>\n",
       "      <td>113572</td>\n",
       "      <td>80.0</td>\n",
       "      <td>NaN</td>\n",
       "      <td>B</td>\n",
       "    </tr>\n",
       "    <tr>\n",
       "      <th>139</th>\n",
       "      <td>0</td>\n",
       "      <td>1</td>\n",
       "      <td>male</td>\n",
       "      <td>24.0</td>\n",
       "      <td>0</td>\n",
       "      <td>0</td>\n",
       "      <td>PC 17593</td>\n",
       "      <td>79.2</td>\n",
       "      <td>C</td>\n",
       "      <td>B</td>\n",
       "    </tr>\n",
       "    <tr>\n",
       "      <th>587</th>\n",
       "      <td>1</td>\n",
       "      <td>1</td>\n",
       "      <td>male</td>\n",
       "      <td>60.0</td>\n",
       "      <td>1</td>\n",
       "      <td>1</td>\n",
       "      <td>13567</td>\n",
       "      <td>79.2</td>\n",
       "      <td>C</td>\n",
       "      <td>B</td>\n",
       "    </tr>\n",
       "    <tr>\n",
       "      <th>789</th>\n",
       "      <td>0</td>\n",
       "      <td>1</td>\n",
       "      <td>male</td>\n",
       "      <td>46.0</td>\n",
       "      <td>0</td>\n",
       "      <td>0</td>\n",
       "      <td>PC 17593</td>\n",
       "      <td>79.2</td>\n",
       "      <td>C</td>\n",
       "      <td>B</td>\n",
       "    </tr>\n",
       "    <tr>\n",
       "      <th>829</th>\n",
       "      <td>1</td>\n",
       "      <td>1</td>\n",
       "      <td>female</td>\n",
       "      <td>62.0</td>\n",
       "      <td>0</td>\n",
       "      <td>0</td>\n",
       "      <td>113572</td>\n",
       "      <td>80.0</td>\n",
       "      <td>NaN</td>\n",
       "      <td>B</td>\n",
       "    </tr>\n",
       "  </tbody>\n",
       "</table>\n",
       "</div>"
      ],
      "text/plain": [
       "     Survived Pclass     Sex   Age  SibSp  Parch    Ticket  Fare Embarked  \\\n",
       "61          1      1  female  38.0      0      0    113572  80.0      NaN   \n",
       "139         0      1    male  24.0      0      0  PC 17593  79.2        C   \n",
       "587         1      1    male  60.0      1      1     13567  79.2        C   \n",
       "789         0      1    male  46.0      0      0  PC 17593  79.2        C   \n",
       "829         1      1  female  62.0      0      0    113572  80.0      NaN   \n",
       "\n",
       "    cabin_loca  \n",
       "61           B  \n",
       "139          B  \n",
       "587          B  \n",
       "789          B  \n",
       "829          B  "
      ]
     },
     "execution_count": 14,
     "metadata": {},
     "output_type": "execute_result"
    }
   ],
   "source": [
    "df[(df.cabin_loca=='B') & (df.Pclass=='1') & (df.Fare>75)& (df.Fare<85)]"
   ]
  },
  {
   "cell_type": "code",
   "execution_count": 15,
   "metadata": {
    "collapsed": true
   },
   "outputs": [],
   "source": [
    "df.loc[df.Embarked.isnull(),'Embarked'] = 'C'"
   ]
  },
  {
   "cell_type": "markdown",
   "metadata": {
    "collapsed": true
   },
   "source": [
    "Fare should be closely related with passenger class, cabin location, and port of embarkation. Under the same passenger class and cabin location, similar fares may suggest the same port of embarkation. Therefore, the missing “Embarked” values are filled with “C”. "
   ]
  },
  {
   "cell_type": "markdown",
   "metadata": {},
   "source": [
    "####  Cabin: cabin number"
   ]
  },
  {
   "cell_type": "code",
   "execution_count": 16,
   "metadata": {},
   "outputs": [
    {
     "name": "stdout",
     "output_type": "stream",
     "text": [
      "observation with more than one cabin letter:\n"
     ]
    },
    {
     "data": {
      "text/html": [
       "<div>\n",
       "<style scoped>\n",
       "    .dataframe tbody tr th:only-of-type {\n",
       "        vertical-align: middle;\n",
       "    }\n",
       "\n",
       "    .dataframe tbody tr th {\n",
       "        vertical-align: top;\n",
       "    }\n",
       "\n",
       "    .dataframe thead th {\n",
       "        text-align: right;\n",
       "    }\n",
       "</style>\n",
       "<table border=\"1\" class=\"dataframe\">\n",
       "  <thead>\n",
       "    <tr style=\"text-align: right;\">\n",
       "      <th></th>\n",
       "      <th>Survived</th>\n",
       "      <th>Pclass</th>\n",
       "      <th>Sex</th>\n",
       "      <th>Age</th>\n",
       "      <th>SibSp</th>\n",
       "      <th>Parch</th>\n",
       "      <th>Ticket</th>\n",
       "      <th>Fare</th>\n",
       "      <th>Embarked</th>\n",
       "      <th>cabin_loca</th>\n",
       "    </tr>\n",
       "  </thead>\n",
       "  <tbody>\n",
       "    <tr>\n",
       "      <th>75</th>\n",
       "      <td>0</td>\n",
       "      <td>3</td>\n",
       "      <td>male</td>\n",
       "      <td>25.0</td>\n",
       "      <td>0</td>\n",
       "      <td>0</td>\n",
       "      <td>348123</td>\n",
       "      <td>7.6500</td>\n",
       "      <td>S</td>\n",
       "      <td>FG</td>\n",
       "    </tr>\n",
       "    <tr>\n",
       "      <th>128</th>\n",
       "      <td>1</td>\n",
       "      <td>3</td>\n",
       "      <td>female</td>\n",
       "      <td>NaN</td>\n",
       "      <td>1</td>\n",
       "      <td>1</td>\n",
       "      <td>2668</td>\n",
       "      <td>22.3583</td>\n",
       "      <td>C</td>\n",
       "      <td>FE</td>\n",
       "    </tr>\n",
       "    <tr>\n",
       "      <th>699</th>\n",
       "      <td>0</td>\n",
       "      <td>3</td>\n",
       "      <td>male</td>\n",
       "      <td>42.0</td>\n",
       "      <td>0</td>\n",
       "      <td>0</td>\n",
       "      <td>348121</td>\n",
       "      <td>7.6500</td>\n",
       "      <td>S</td>\n",
       "      <td>FG</td>\n",
       "    </tr>\n",
       "    <tr>\n",
       "      <th>715</th>\n",
       "      <td>0</td>\n",
       "      <td>3</td>\n",
       "      <td>male</td>\n",
       "      <td>19.0</td>\n",
       "      <td>0</td>\n",
       "      <td>0</td>\n",
       "      <td>348124</td>\n",
       "      <td>7.6500</td>\n",
       "      <td>S</td>\n",
       "      <td>FG</td>\n",
       "    </tr>\n",
       "  </tbody>\n",
       "</table>\n",
       "</div>"
      ],
      "text/plain": [
       "     Survived Pclass     Sex   Age  SibSp  Parch  Ticket     Fare Embarked  \\\n",
       "75          0      3    male  25.0      0      0  348123   7.6500        S   \n",
       "128         1      3  female   NaN      1      1    2668  22.3583        C   \n",
       "699         0      3    male  42.0      0      0  348121   7.6500        S   \n",
       "715         0      3    male  19.0      0      0  348124   7.6500        S   \n",
       "\n",
       "    cabin_loca  \n",
       "75          FG  \n",
       "128         FE  \n",
       "699         FG  \n",
       "715         FG  "
      ]
     },
     "execution_count": 16,
     "metadata": {},
     "output_type": "execute_result"
    }
   ],
   "source": [
    "# observation with more than one cabin letter\n",
    "print(\"observation with more than one cabin letter:\")\n",
    "ix_mulcab = cabin_l.groupby(by='row').letter.nunique()[cabin_l.groupby(by='row').letter.nunique()>1]\n",
    "df.iloc[ix_mulcab.index.values]"
   ]
  },
  {
   "cell_type": "code",
   "execution_count": 17,
   "metadata": {},
   "outputs": [
    {
     "name": "stdout",
     "output_type": "stream",
     "text": [
      "For observations with no missing carbon location values, 48  ticket numbers appear more than once (shared with other passenger(s)). \n",
      "Among them,  2 ticket numbers have different carbon locations for different passenger.\n"
     ]
    }
   ],
   "source": [
    "print(\"For observations with no missing carbon location values,\",\n",
    "      sum(df[df.cabin_loca.isnull()==False].groupby(by='Ticket').size()>1),\n",
    "      \" ticket numbers appear more than once (shared with other passenger(s)). \")\n",
    "print(\"Among them, \",\n",
    "     sum(df[df.cabin_loca.isnull()==False].groupby(by='Ticket').cabin_loca.nunique()>1),\n",
    "     \"ticket numbers have different carbon locations for different passenger.\")\n"
   ]
  },
  {
   "cell_type": "markdown",
   "metadata": {},
   "source": [
    "I assume the same cabin location for people sharing the same ticket number."
   ]
  },
  {
   "cell_type": "code",
   "execution_count": 18,
   "metadata": {
    "collapsed": true
   },
   "outputs": [],
   "source": [
    "# ticket number shared by people with and without Cabin number\n",
    "tic_share = set(df.Ticket[df.cabin_loca.isnull()].unique()).intersection(df.Ticket[df.cabin_loca.isnull()==False].unique())\n",
    "df_share_cab = df[df.Ticket.isin(tic_share) & (df.cabin_loca.isnull()==False)]\n",
    "\n",
    "# impute missing values: same cabin location for same ticket number\n",
    "df_share_cab = df_share_cab[['Ticket','cabin_loca']].drop_duplicates()\n",
    "df = df.merge(df_share_cab,left_on='Ticket', right_on='Ticket',how=\"left\")\n",
    "df.cabin_loca_x = df.cabin_loca_x.fillna(df.cabin_loca_y)\n",
    "df.rename(columns = {'cabin_loca_x':'cabin_loca'}, inplace=True)\n",
    "df.drop('cabin_loca_y',axis=1,inplace=True)"
   ]
  },
  {
   "cell_type": "markdown",
   "metadata": {},
   "source": [
    "The plot below suggests that cabin location information cannot be directly infered from port of embarkation."
   ]
  },
  {
   "cell_type": "code",
   "execution_count": 19,
   "metadata": {},
   "outputs": [
    {
     "data": {
      "image/png": "[encoded data removed]",
      "text/plain": [
       "<matplotlib.figure.Figure at 0x1aa07dcc4e0>"
      ]
     },
     "metadata": {},
     "output_type": "display_data"
    }
   ],
   "source": [
    "fig = plt.figure(figsize=(12,4))\n",
    "ax = fig.add_subplot(111)\n",
    "ttl = ax.title\n",
    "ttl.set_position([.5, 1.1]) # distance between title and plot\n",
    "mosaic(df.sort_values('cabin_loca'),['Embarked','cabin_loca'],\n",
    "       ax=ax,gap=0.005,horizontal =False,\n",
    "       title='Mosaic Plot: Embarked vs cabin_loca',axes_label=True)\n",
    "pass"
   ]
  },
  {
   "cell_type": "code",
   "execution_count": 20,
   "metadata": {},
   "outputs": [
    {
     "data": {
      "text/plain": [
       "Embarked  cabin_loca\n",
       "C         A              7\n",
       "          B             25\n",
       "          C             26\n",
       "          D             13\n",
       "          E              5\n",
       "          FE             2\n",
       "Q         C              2\n",
       "          E              1\n",
       "          F              1\n",
       "S         A              8\n",
       "          B             23\n",
       "          C             39\n",
       "          D             20\n",
       "          E             27\n",
       "          F              8\n",
       "          FG             3\n",
       "          G              4\n",
       "          T              1\n",
       "dtype: int64"
      ]
     },
     "execution_count": 20,
     "metadata": {},
     "output_type": "execute_result"
    }
   ],
   "source": [
    "df.groupby(['Embarked','cabin_loca']).size()"
   ]
  },
  {
   "cell_type": "markdown",
   "metadata": {},
   "source": [
    "Here, I add an extra category for the cabin location variable indicating missingness."
   ]
  },
  {
   "cell_type": "code",
   "execution_count": 21,
   "metadata": {
    "collapsed": true
   },
   "outputs": [],
   "source": [
    "df.cabin_loca = df.cabin_loca.fillna(value = \"missing\")"
   ]
  },
  {
   "cell_type": "markdown",
   "metadata": {},
   "source": [
    "Rules for missing data imputation:\n",
    "\n",
    "- For people sharing the same ticket number, I assume their same cabin locations are the same.\n",
    "\n",
    "- Creat an extra category \"missing\" for the cabin location variable indicating missingness."
   ]
  },
  {
   "cell_type": "markdown",
   "metadata": {},
   "source": [
    "#### Age: age in years\n",
    "\n",
    "reference:\n",
    "\n",
    "https://medium.com/ibm-data-science-experience/missing-data-conundrum-exploration-and-imputation-techniques-9f40abe0fd87\n",
    "\n",
    "https://pypi.org/project/fancyimpute/\n",
    "\n",
    "https://github.com/iskandr/fancyimpute/issues/53\n",
    "\n",
    "I assume the age data is missing at random (MAR), and  impute them using MICE (Multiple Imputation by Chained Equations). "
   ]
  },
  {
   "cell_type": "code",
   "execution_count": 22,
   "metadata": {},
   "outputs": [
    {
     "name": "stdout",
     "output_type": "stream",
     "text": [
      "[MICE] Completing matrix with shape (891, 19)\n",
      "[MICE] Starting imputation round 1/110, elapsed time 0.000\n",
      "[MICE] Starting imputation round 2/110, elapsed time 0.002\n",
      "[MICE] Starting imputation round 3/110, elapsed time 0.003\n",
      "[MICE] Starting imputation round 4/110, elapsed time 0.004\n",
      "[MICE] Starting imputation round 5/110, elapsed time 0.005\n",
      "[MICE] Starting imputation round 6/110, elapsed time 0.006\n",
      "[MICE] Starting imputation round 7/110, elapsed time 0.006\n",
      "[MICE] Starting imputation round 8/110, elapsed time 0.007\n",
      "[MICE] Starting imputation round 9/110, elapsed time 0.008\n",
      "[MICE] Starting imputation round 10/110, elapsed time 0.008\n",
      "[MICE] Starting imputation round 11/110, elapsed time 0.010\n",
      "[MICE] Starting imputation round 12/110, elapsed time 0.011\n",
      "[MICE] Starting imputation round 13/110, elapsed time 0.012\n",
      "[MICE] Starting imputation round 14/110, elapsed time 0.012\n",
      "[MICE] Starting imputation round 15/110, elapsed time 0.013\n",
      "[MICE] Starting imputation round 16/110, elapsed time 0.014\n",
      "[MICE] Starting imputation round 17/110, elapsed time 0.015\n",
      "[MICE] Starting imputation round 18/110, elapsed time 0.016\n",
      "[MICE] Starting imputation round 19/110, elapsed time 0.016\n",
      "[MICE] Starting imputation round 20/110, elapsed time 0.017\n",
      "[MICE] Starting imputation round 21/110, elapsed time 0.018\n",
      "[MICE] Starting imputation round 22/110, elapsed time 0.018\n",
      "[MICE] Starting imputation round 23/110, elapsed time 0.019\n",
      "[MICE] Starting imputation round 24/110, elapsed time 0.020\n",
      "[MICE] Starting imputation round 25/110, elapsed time 0.020\n",
      "[MICE] Starting imputation round 26/110, elapsed time 0.021\n",
      "[MICE] Starting imputation round 27/110, elapsed time 0.022\n",
      "[MICE] Starting imputation round 28/110, elapsed time 0.023\n",
      "[MICE] Starting imputation round 29/110, elapsed time 0.024\n",
      "[MICE] Starting imputation round 30/110, elapsed time 0.024\n",
      "[MICE] Starting imputation round 31/110, elapsed time 0.025\n",
      "[MICE] Starting imputation round 32/110, elapsed time 0.026\n",
      "[MICE] Starting imputation round 33/110, elapsed time 0.026\n",
      "[MICE] Starting imputation round 34/110, elapsed time 0.026\n",
      "[MICE] Starting imputation round 35/110, elapsed time 0.027\n",
      "[MICE] Starting imputation round 36/110, elapsed time 0.028\n",
      "[MICE] Starting imputation round 37/110, elapsed time 0.029\n",
      "[MICE] Starting imputation round 38/110, elapsed time 0.029\n",
      "[MICE] Starting imputation round 39/110, elapsed time 0.030\n",
      "[MICE] Starting imputation round 40/110, elapsed time 0.031\n",
      "[MICE] Starting imputation round 41/110, elapsed time 0.032\n",
      "[MICE] Starting imputation round 42/110, elapsed time 0.033\n",
      "[MICE] Starting imputation round 43/110, elapsed time 0.034\n",
      "[MICE] Starting imputation round 44/110, elapsed time 0.034\n",
      "[MICE] Starting imputation round 45/110, elapsed time 0.035\n",
      "[MICE] Starting imputation round 46/110, elapsed time 0.036\n",
      "[MICE] Starting imputation round 47/110, elapsed time 0.037\n",
      "[MICE] Starting imputation round 48/110, elapsed time 0.038\n",
      "[MICE] Starting imputation round 49/110, elapsed time 0.038\n",
      "[MICE] Starting imputation round 50/110, elapsed time 0.039\n",
      "[MICE] Starting imputation round 51/110, elapsed time 0.040\n",
      "[MICE] Starting imputation round 52/110, elapsed time 0.040\n",
      "[MICE] Starting imputation round 53/110, elapsed time 0.041\n",
      "[MICE] Starting imputation round 54/110, elapsed time 0.042\n",
      "[MICE] Starting imputation round 55/110, elapsed time 0.043\n",
      "[MICE] Starting imputation round 56/110, elapsed time 0.043\n",
      "[MICE] Starting imputation round 57/110, elapsed time 0.044\n",
      "[MICE] Starting imputation round 58/110, elapsed time 0.045\n",
      "[MICE] Starting imputation round 59/110, elapsed time 0.046\n",
      "[MICE] Starting imputation round 60/110, elapsed time 0.047\n",
      "[MICE] Starting imputation round 61/110, elapsed time 0.047\n",
      "[MICE] Starting imputation round 62/110, elapsed time 0.048\n",
      "[MICE] Starting imputation round 63/110, elapsed time 0.049\n",
      "[MICE] Starting imputation round 64/110, elapsed time 0.050\n",
      "[MICE] Starting imputation round 65/110, elapsed time 0.050\n",
      "[MICE] Starting imputation round 66/110, elapsed time 0.051\n",
      "[MICE] Starting imputation round 67/110, elapsed time 0.052\n",
      "[MICE] Starting imputation round 68/110, elapsed time 0.052\n",
      "[MICE] Starting imputation round 69/110, elapsed time 0.053\n",
      "[MICE] Starting imputation round 70/110, elapsed time 0.054\n",
      "[MICE] Starting imputation round 71/110, elapsed time 0.054\n",
      "[MICE] Starting imputation round 72/110, elapsed time 0.055\n",
      "[MICE] Starting imputation round 73/110, elapsed time 0.056\n",
      "[MICE] Starting imputation round 74/110, elapsed time 0.057\n",
      "[MICE] Starting imputation round 75/110, elapsed time 0.058\n",
      "[MICE] Starting imputation round 76/110, elapsed time 0.059\n",
      "[MICE] Starting imputation round 77/110, elapsed time 0.060\n",
      "[MICE] Starting imputation round 78/110, elapsed time 0.060\n",
      "[MICE] Starting imputation round 79/110, elapsed time 0.061\n",
      "[MICE] Starting imputation round 80/110, elapsed time 0.062\n",
      "[MICE] Starting imputation round 81/110, elapsed time 0.062\n",
      "[MICE] Starting imputation round 82/110, elapsed time 0.063\n",
      "[MICE] Starting imputation round 83/110, elapsed time 0.064\n",
      "[MICE] Starting imputation round 84/110, elapsed time 0.064\n",
      "[MICE] Starting imputation round 85/110, elapsed time 0.065\n",
      "[MICE] Starting imputation round 86/110, elapsed time 0.066\n",
      "[MICE] Starting imputation round 87/110, elapsed time 0.067\n",
      "[MICE] Starting imputation round 88/110, elapsed time 0.068\n",
      "[MICE] Starting imputation round 89/110, elapsed time 0.068\n",
      "[MICE] Starting imputation round 90/110, elapsed time 0.069\n",
      "[MICE] Starting imputation round 91/110, elapsed time 0.070\n",
      "[MICE] Starting imputation round 92/110, elapsed time 0.071\n",
      "[MICE] Starting imputation round 93/110, elapsed time 0.071\n",
      "[MICE] Starting imputation round 94/110, elapsed time 0.072\n",
      "[MICE] Starting imputation round 95/110, elapsed time 0.073\n",
      "[MICE] Starting imputation round 96/110, elapsed time 0.074\n",
      "[MICE] Starting imputation round 97/110, elapsed time 0.074\n",
      "[MICE] Starting imputation round 98/110, elapsed time 0.075\n",
      "[MICE] Starting imputation round 99/110, elapsed time 0.076\n",
      "[MICE] Starting imputation round 100/110, elapsed time 0.077\n",
      "[MICE] Starting imputation round 101/110, elapsed time 0.077\n",
      "[MICE] Starting imputation round 102/110, elapsed time 0.078\n",
      "[MICE] Starting imputation round 103/110, elapsed time 0.079\n",
      "[MICE] Starting imputation round 104/110, elapsed time 0.079\n",
      "[MICE] Starting imputation round 105/110, elapsed time 0.080\n",
      "[MICE] Starting imputation round 106/110, elapsed time 0.080\n",
      "[MICE] Starting imputation round 107/110, elapsed time 0.081\n",
      "[MICE] Starting imputation round 108/110, elapsed time 0.082\n",
      "[MICE] Starting imputation round 109/110, elapsed time 0.083\n",
      "[MICE] Starting imputation round 110/110, elapsed time 0.083\n"
     ]
    }
   ],
   "source": [
    "# MICE doesn't support categorical data\n",
    "# One-hot encoding is applied here to convert categories into binary indicators\n",
    "df_x = df.copy()\n",
    "df_x.drop(['Survived','Ticket'],axis=1,inplace=True)\n",
    "df_dummies= pd.get_dummies(df_x,drop_first=True)\n",
    "Xmice = MICE(model = BayesianRidgeRegression(lambda_reg=0.5)).complete(df_dummies.as_matrix())\n",
    "Xmice = pd.DataFrame(Xmice)\n",
    "Xmice.columns = df_dummies.columns"
   ]
  },
  {
   "cell_type": "code",
   "execution_count": 23,
   "metadata": {},
   "outputs": [
    {
     "data": {
      "text/plain": [
       "(0, 0.07)"
      ]
     },
     "execution_count": 23,
     "metadata": {},
     "output_type": "execute_result"
    },
    {
     "data": {
      "image/png": "[encoded data removed]",
      "text/plain": [
       "<matplotlib.figure.Figure at 0x1aa08143e48>"
      ]
     },
     "metadata": {},
     "output_type": "display_data"
    }
   ],
   "source": [
    "sns.set(rc={'figure.figsize':(17,5)})\n",
    "plt.subplot(121)\n",
    "sns.distplot(df.Age.dropna()).set_title('Distribution of The Original Age Variable')\n",
    "plt.ylim([0,0.07])\n",
    "plt.subplot(122)\n",
    "sns.distplot(Xmice.Age).set_title('Distribution of The Imputed Age Variable')\n",
    "plt.ylim([0,0.07])"
   ]
  },
  {
   "cell_type": "markdown",
   "metadata": {},
   "source": [
    "## Exploratory Data Analysis"
   ]
  },
  {
   "cell_type": "code",
   "execution_count": null,
   "metadata": {
    "collapsed": true
   },
   "outputs": [],
   "source": []
  },
  {
   "cell_type": "code",
   "execution_count": null,
   "metadata": {
    "collapsed": true
   },
   "outputs": [],
   "source": []
  },
  {
   "cell_type": "code",
   "execution_count": null,
   "metadata": {
    "collapsed": true
   },
   "outputs": [],
   "source": []
  },
  {
   "cell_type": "code",
   "execution_count": null,
   "metadata": {
    "collapsed": true
   },
   "outputs": [],
   "source": []
  },
  {
   "cell_type": "code",
   "execution_count": null,
   "metadata": {
    "collapsed": true
   },
   "outputs": [],
   "source": []
  }
 ],
 "metadata": {
  "kernelspec": {
   "display_name": "Python 3",
   "language": "python",
   "name": "python3"
  },
  "language_info": {
   "codemirror_mode": {
    "name": "ipython",
    "version": 3
   },
   "file_extension": ".py",
   "mimetype": "text/x-python",
   "name": "python",
   "nbconvert_exporter": "python",
   "pygments_lexer": "ipython3",
   "version": "3.6.3"
  }
 },
 "nbformat": 4,
 "nbformat_minor": 2
}
